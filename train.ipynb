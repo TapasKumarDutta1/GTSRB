{
  "nbformat": 4,
  "nbformat_minor": 0,
  "metadata": {
    "colab": {
      "name": "train.ipynb",
      "provenance": [],
      "authorship_tag": "ABX9TyNTegjmOvbNnzd8DFhUe9oI",
      "include_colab_link": true
    },
    "kernelspec": {
      "name": "python3",
      "display_name": "Python 3"
    },
    "language_info": {
      "name": "python"
    }
  },
  "cells": [
    {
      "cell_type": "markdown",
      "metadata": {
        "id": "view-in-github",
        "colab_type": "text"
      },
      "source": [
        "<a href=\"https://colab.research.google.com/github/greyhound101/Orbuculum/blob/main/train.ipynb\" target=\"_parent\"><img src=\"https://colab.research.google.com/assets/colab-badge.svg\" alt=\"Open In Colab\"/></a>"
      ]
    },
    {
      "cell_type": "code",
      "metadata": {
        "id": "eTh8mJBesPCw"
      },
      "source": [
        "import zipfile\n",
        "import pandas as pd\n",
        "import numpy as np\n",
        "import glob\n",
        "import os\n",
        "import cv2\n",
        "from tqdm import tqdm\n",
        "import random\n",
        "import keras.backend as K\n",
        "from keras.applications import *\n",
        "from keras.layers import *\n",
        "from keras.models import Model\n",
        "\n",
        "from keras.models import Sequential\n",
        "from keras.layers import Conv2D, MaxPool2D, Dense, Flatten, Dropout"
      ],
      "execution_count": 10,
      "outputs": []
    },
    {
      "cell_type": "code",
      "metadata": {
        "id": "l-SOx6cKgcXd"
      },
      "source": [
        "import keras\n",
        "import ast\n",
        "from keras.utils import to_categorical\n",
        "class DataGenerator(keras.utils.Sequence):\n",
        "  def __init__(self, series, batch_size=64):\n",
        "                       # array of labels\n",
        "    self.paths=[]\n",
        "    for en,i in enumerate(list(series.index)):\n",
        "        self.paths+=series[i]\n",
        "    self.batch_size   = batch_size   \n",
        "    \n",
        "  def __len__(self):\n",
        "    return int(np.floor(len(self.paths) / self.batch_size))\n",
        "\n",
        "\n",
        "  def __getitem__(self, index):\n",
        "\t\t# selects indices of data for next batch\n",
        "    img = [self.paths[k] for k in range(index*self.batch_size,(index+1)*self.batch_size)]\n",
        "    images=[cv2.imread(path) for path in img]\n",
        "    labels=[int(path.split('/')[2].split('_')[-1]) for path in img]\n",
        "    return (np.asarray(images)/255).astype('float32'), to_categorical(labels,43)\n",
        "    "
      ],
      "execution_count": 11,
      "outputs": []
    },
    {
      "cell_type": "code",
      "metadata": {
        "id": "dFuitbMdgeYk"
      },
      "source": [
        "import tensorflow as tf\n",
        "from keras.activations import *\n",
        "class SE(keras.layers.Layer):\n",
        "    def __init__(self,factor,otr,**kwargs):\n",
        "        super(SE, self).__init__(**kwargs)\n",
        "        self.inr=int(otr/factor)\n",
        "        self.otr=otr\n",
        "        \n",
        "    def get_config(self):\n",
        "        base_config = super(SE, self).get_config()\n",
        "\n",
        "    def build(self, input_shape):\n",
        "        super(SE, self).build(input_shape)\n",
        "        self.pool1=GlobalAveragePooling2D()\n",
        "        self.compress=Dense(self.inr,activation='relu')\n",
        "        self.expand=Dense(self.otr,activation='sigmoid')\n",
        "\n",
        "    def call(self, img):\n",
        "        y = self.pool1(img)\n",
        "        y = self.compress(y)\n",
        "        map = self.expand(y)\n",
        "        map = tf.expand_dims(map,1)\n",
        "        map = tf.expand_dims(map,2)\n",
        "        return tf.math.multiply(img,map)\n"
      ],
      "execution_count": 12,
      "outputs": []
    },
    {
      "cell_type": "code",
      "metadata": {
        "id": "jDRzApQlgfpg"
      },
      "source": [
        "def load_model(last=True): \n",
        "  K.clear_session()   \n",
        "  model = Sequential()\n",
        "  model.add(Conv2D(filters=32, kernel_size=(5,5), input_shape=(30,30,3)))\n",
        "  model.add(BatchNormalization())\n",
        "  model.add(Activation('relu'))\n",
        "  model.add(MaxPool2D(pool_size=(2, 2)))\n",
        "  model.add(Conv2D(filters=64, kernel_size=(2,2)))\n",
        "  model.add(BatchNormalization())\n",
        "  model.add(Activation('relu'))\n",
        "  model.add(SE(4,64))\n",
        "    \n",
        "  model.add(Conv2D(filters=32, kernel_size=(2,2)))\n",
        "  model.add(BatchNormalization())\n",
        "  model.add(Activation('relu'))\n",
        "  model.add(MaxPool2D(pool_size=(2, 2)))\n",
        "  model.add(Conv2D(filters=64, kernel_size=(2,2)))\n",
        "  model.add(BatchNormalization())\n",
        "  model.add(Activation('relu'))\n",
        "  model.add(SE(8,64))\n",
        "    \n",
        "  model.add(Flatten())\n",
        "  model.add(Dense(256, activation='relu'))\n",
        "  model.add(Dropout(rate=0.5))\n",
        "  model.add(Dense(43, activation='softmax'))\n",
        "  return model\n"
      ],
      "execution_count": 13,
      "outputs": []
    },
    {
      "cell_type": "code",
      "metadata": {
        "colab": {
          "base_uri": "https://localhost:8080/"
        },
        "id": "gK1mO73nghTF",
        "outputId": "868be4cf-b60f-4712-dd18-8fca1f9307eb"
      },
      "source": [
        "model=load_model()\n",
        "model.summary()"
      ],
      "execution_count": 14,
      "outputs": [
        {
          "output_type": "stream",
          "text": [
            "Model: \"sequential\"\n",
            "_________________________________________________________________\n",
            "Layer (type)                 Output Shape              Param #   \n",
            "=================================================================\n",
            "conv2d (Conv2D)              (None, 26, 26, 32)        2432      \n",
            "_________________________________________________________________\n",
            "batch_normalization (BatchNo (None, 26, 26, 32)        128       \n",
            "_________________________________________________________________\n",
            "activation (Activation)      (None, 26, 26, 32)        0         \n",
            "_________________________________________________________________\n",
            "max_pooling2d (MaxPooling2D) (None, 13, 13, 32)        0         \n",
            "_________________________________________________________________\n",
            "conv2d_1 (Conv2D)            (None, 12, 12, 64)        8256      \n",
            "_________________________________________________________________\n",
            "batch_normalization_1 (Batch (None, 12, 12, 64)        256       \n",
            "_________________________________________________________________\n",
            "activation_1 (Activation)    (None, 12, 12, 64)        0         \n",
            "_________________________________________________________________\n",
            "se (SE)                      (None, 12, 12, 64)        2128      \n",
            "_________________________________________________________________\n",
            "conv2d_2 (Conv2D)            (None, 11, 11, 32)        8224      \n",
            "_________________________________________________________________\n",
            "batch_normalization_2 (Batch (None, 11, 11, 32)        128       \n",
            "_________________________________________________________________\n",
            "activation_2 (Activation)    (None, 11, 11, 32)        0         \n",
            "_________________________________________________________________\n",
            "max_pooling2d_1 (MaxPooling2 (None, 5, 5, 32)          0         \n",
            "_________________________________________________________________\n",
            "conv2d_3 (Conv2D)            (None, 4, 4, 64)          8256      \n",
            "_________________________________________________________________\n",
            "batch_normalization_3 (Batch (None, 4, 4, 64)          256       \n",
            "_________________________________________________________________\n",
            "activation_3 (Activation)    (None, 4, 4, 64)          0         \n",
            "_________________________________________________________________\n",
            "se_1 (SE)                    (None, 4, 4, 64)          1096      \n",
            "_________________________________________________________________\n",
            "flatten (Flatten)            (None, 1024)              0         \n",
            "_________________________________________________________________\n",
            "dense (Dense)                (None, 256)               262400    \n",
            "_________________________________________________________________\n",
            "dropout (Dropout)            (None, 256)               0         \n",
            "_________________________________________________________________\n",
            "dense_1 (Dense)              (None, 43)                11051     \n",
            "=================================================================\n",
            "Total params: 304,611\n",
            "Trainable params: 304,227\n",
            "Non-trainable params: 384\n",
            "_________________________________________________________________\n"
          ],
          "name": "stdout"
        }
      ]
    },
    {
      "cell_type": "code",
      "metadata": {
        "id": "7rdTe1M-giOx"
      },
      "source": [
        "from keras.optimizers import *\n",
        "import numpy as np\n",
        "train=DataGenerator(df['train'])\n",
        "test=DataGenerator(df['test'])\n",
        "validation=DataGenerator(df['validation'])"
      ],
      "execution_count": 15,
      "outputs": []
    },
    {
      "cell_type": "code",
      "metadata": {
        "colab": {
          "base_uri": "https://localhost:8080/"
        },
        "id": "QB6XpP3OiBBx",
        "outputId": "1dda53ec-5381-459e-d924-2d18c9031d51"
      },
      "source": [
        "model.compile(optimizer=Adam(1e-3,decay=1e-3),  \n",
        "                     loss='categorical_crossentropy', \n",
        "                     metrics=['accuracy'])\n",
        "ln=len(train)\n",
        "hist=model.fit_generator(train,epochs=50,steps_per_epoch=ln,validation_data=validation)"
      ],
      "execution_count": 16,
      "outputs": [
        {
          "output_type": "stream",
          "text": [
            "/usr/local/lib/python3.7/dist-packages/tensorflow/python/keras/engine/training.py:1844: UserWarning: `Model.fit_generator` is deprecated and will be removed in a future version. Please use `Model.fit`, which supports generators.\n",
            "  warnings.warn('`Model.fit_generator` is deprecated and '\n"
          ],
          "name": "stderr"
        },
        {
          "output_type": "stream",
          "text": [
            "Epoch 1/50\n",
            "367/367 [==============================] - 46s 122ms/step - loss: 3.4624 - accuracy: 0.1417 - val_loss: 2.2092 - val_accuracy: 0.4242\n",
            "Epoch 2/50\n",
            "367/367 [==============================] - 44s 121ms/step - loss: 1.6851 - accuracy: 0.5731 - val_loss: 1.0542 - val_accuracy: 0.7564\n",
            "Epoch 3/50\n",
            "367/367 [==============================] - 44s 120ms/step - loss: 0.8536 - accuracy: 0.7633 - val_loss: 0.6890 - val_accuracy: 0.8276\n",
            "Epoch 4/50\n",
            "367/367 [==============================] - 44s 120ms/step - loss: 0.6006 - accuracy: 0.8265 - val_loss: 0.5186 - val_accuracy: 0.8738\n",
            "Epoch 5/50\n",
            "367/367 [==============================] - 44s 120ms/step - loss: 0.3832 - accuracy: 0.8914 - val_loss: 0.4975 - val_accuracy: 0.8772\n",
            "Epoch 6/50\n",
            "367/367 [==============================] - 44s 121ms/step - loss: 0.2913 - accuracy: 0.9199 - val_loss: 0.3817 - val_accuracy: 0.9039\n",
            "Epoch 7/50\n",
            "367/367 [==============================] - 44s 120ms/step - loss: 0.1945 - accuracy: 0.9455 - val_loss: 0.3494 - val_accuracy: 0.9133\n",
            "Epoch 8/50\n",
            "367/367 [==============================] - 44s 120ms/step - loss: 0.1782 - accuracy: 0.9515 - val_loss: 0.3577 - val_accuracy: 0.9115\n",
            "Epoch 9/50\n",
            "367/367 [==============================] - 44s 121ms/step - loss: 0.1383 - accuracy: 0.9624 - val_loss: 0.3475 - val_accuracy: 0.9150\n",
            "Epoch 10/50\n",
            "367/367 [==============================] - 44s 121ms/step - loss: 0.1041 - accuracy: 0.9708 - val_loss: 0.3362 - val_accuracy: 0.9201\n",
            "Epoch 11/50\n",
            "367/367 [==============================] - 44s 120ms/step - loss: 0.0919 - accuracy: 0.9747 - val_loss: 0.3068 - val_accuracy: 0.9283\n",
            "Epoch 12/50\n",
            "367/367 [==============================] - 45s 122ms/step - loss: 0.0845 - accuracy: 0.9767 - val_loss: 0.3489 - val_accuracy: 0.9141\n",
            "Epoch 13/50\n",
            "367/367 [==============================] - 45s 122ms/step - loss: 0.0686 - accuracy: 0.9807 - val_loss: 0.3124 - val_accuracy: 0.9264\n",
            "Epoch 14/50\n",
            "367/367 [==============================] - 44s 121ms/step - loss: 0.0545 - accuracy: 0.9861 - val_loss: 0.3008 - val_accuracy: 0.9256\n",
            "Epoch 15/50\n",
            "367/367 [==============================] - 45s 122ms/step - loss: 0.0482 - accuracy: 0.9887 - val_loss: 0.3124 - val_accuracy: 0.9256\n",
            "Epoch 16/50\n",
            "367/367 [==============================] - 45s 122ms/step - loss: 0.0459 - accuracy: 0.9881 - val_loss: 0.2806 - val_accuracy: 0.9339\n",
            "Epoch 17/50\n",
            "367/367 [==============================] - 45s 122ms/step - loss: 0.0427 - accuracy: 0.9891 - val_loss: 0.3170 - val_accuracy: 0.9264\n",
            "Epoch 18/50\n",
            "367/367 [==============================] - 45s 123ms/step - loss: 0.0416 - accuracy: 0.9883 - val_loss: 0.2944 - val_accuracy: 0.9321\n",
            "Epoch 19/50\n",
            "367/367 [==============================] - 48s 130ms/step - loss: 0.0305 - accuracy: 0.9925 - val_loss: 0.2828 - val_accuracy: 0.9306\n",
            "Epoch 20/50\n",
            "367/367 [==============================] - 47s 129ms/step - loss: 0.0303 - accuracy: 0.9934 - val_loss: 0.2968 - val_accuracy: 0.9308\n",
            "Epoch 21/50\n",
            "367/367 [==============================] - 45s 123ms/step - loss: 0.0274 - accuracy: 0.9939 - val_loss: 0.2924 - val_accuracy: 0.9306\n",
            "Epoch 22/50\n",
            "367/367 [==============================] - 45s 122ms/step - loss: 0.0246 - accuracy: 0.9944 - val_loss: 0.2919 - val_accuracy: 0.9301\n",
            "Epoch 23/50\n",
            "367/367 [==============================] - 45s 122ms/step - loss: 0.0231 - accuracy: 0.9948 - val_loss: 0.2842 - val_accuracy: 0.9324\n",
            "Epoch 24/50\n",
            "367/367 [==============================] - 45s 121ms/step - loss: 0.0186 - accuracy: 0.9959 - val_loss: 0.3110 - val_accuracy: 0.9287\n",
            "Epoch 25/50\n",
            "367/367 [==============================] - 45s 122ms/step - loss: 0.0202 - accuracy: 0.9956 - val_loss: 0.3124 - val_accuracy: 0.9264\n",
            "Epoch 26/50\n",
            "367/367 [==============================] - 45s 124ms/step - loss: 0.0185 - accuracy: 0.9958 - val_loss: 0.3054 - val_accuracy: 0.9292\n",
            "Epoch 27/50\n",
            "367/367 [==============================] - 45s 123ms/step - loss: 0.0147 - accuracy: 0.9968 - val_loss: 0.2934 - val_accuracy: 0.9363\n",
            "Epoch 28/50\n",
            "367/367 [==============================] - 46s 125ms/step - loss: 0.0161 - accuracy: 0.9962 - val_loss: 0.2885 - val_accuracy: 0.9378\n",
            "Epoch 29/50\n",
            "367/367 [==============================] - 46s 125ms/step - loss: 0.0153 - accuracy: 0.9963 - val_loss: 0.3107 - val_accuracy: 0.9326\n",
            "Epoch 30/50\n",
            "367/367 [==============================] - 46s 125ms/step - loss: 0.0145 - accuracy: 0.9964 - val_loss: 0.3047 - val_accuracy: 0.9338\n",
            "Epoch 31/50\n",
            "367/367 [==============================] - 46s 125ms/step - loss: 0.0119 - accuracy: 0.9982 - val_loss: 0.3154 - val_accuracy: 0.9348\n",
            "Epoch 32/50\n",
            "367/367 [==============================] - 46s 124ms/step - loss: 0.0116 - accuracy: 0.9974 - val_loss: 0.3139 - val_accuracy: 0.9293\n",
            "Epoch 33/50\n",
            "367/367 [==============================] - 46s 124ms/step - loss: 0.0109 - accuracy: 0.9977 - val_loss: 0.2892 - val_accuracy: 0.9374\n",
            "Epoch 34/50\n",
            "367/367 [==============================] - 45s 124ms/step - loss: 0.0108 - accuracy: 0.9976 - val_loss: 0.2927 - val_accuracy: 0.9379\n",
            "Epoch 35/50\n",
            "367/367 [==============================] - 46s 124ms/step - loss: 0.0094 - accuracy: 0.9981 - val_loss: 0.2978 - val_accuracy: 0.9360\n",
            "Epoch 36/50\n",
            "367/367 [==============================] - 46s 126ms/step - loss: 0.0096 - accuracy: 0.9974 - val_loss: 0.3039 - val_accuracy: 0.9349\n",
            "Epoch 37/50\n",
            "367/367 [==============================] - 46s 126ms/step - loss: 0.0085 - accuracy: 0.9983 - val_loss: 0.3039 - val_accuracy: 0.9343\n",
            "Epoch 38/50\n",
            "367/367 [==============================] - 46s 125ms/step - loss: 0.0076 - accuracy: 0.9984 - val_loss: 0.3091 - val_accuracy: 0.9307\n",
            "Epoch 39/50\n",
            "367/367 [==============================] - 47s 127ms/step - loss: 0.0101 - accuracy: 0.9977 - val_loss: 0.3050 - val_accuracy: 0.9376\n",
            "Epoch 40/50\n",
            "367/367 [==============================] - 46s 126ms/step - loss: 0.0082 - accuracy: 0.9977 - val_loss: 0.3054 - val_accuracy: 0.9337\n",
            "Epoch 41/50\n",
            "367/367 [==============================] - 47s 128ms/step - loss: 0.0068 - accuracy: 0.9990 - val_loss: 0.3199 - val_accuracy: 0.9329\n",
            "Epoch 42/50\n",
            "367/367 [==============================] - 46s 126ms/step - loss: 0.0072 - accuracy: 0.9985 - val_loss: 0.3137 - val_accuracy: 0.9335\n",
            "Epoch 43/50\n",
            "367/367 [==============================] - 47s 127ms/step - loss: 0.0061 - accuracy: 0.9986 - val_loss: 0.3104 - val_accuracy: 0.9356\n",
            "Epoch 44/50\n",
            "367/367 [==============================] - 46s 126ms/step - loss: 0.0064 - accuracy: 0.9990 - val_loss: 0.3054 - val_accuracy: 0.9366\n",
            "Epoch 45/50\n",
            "367/367 [==============================] - 45s 123ms/step - loss: 0.0070 - accuracy: 0.9986 - val_loss: 0.3034 - val_accuracy: 0.9358\n",
            "Epoch 46/50\n",
            "367/367 [==============================] - 45s 123ms/step - loss: 0.0062 - accuracy: 0.9986 - val_loss: 0.2968 - val_accuracy: 0.9388\n",
            "Epoch 47/50\n",
            "367/367 [==============================] - 45s 122ms/step - loss: 0.0054 - accuracy: 0.9988 - val_loss: 0.3021 - val_accuracy: 0.9371\n",
            "Epoch 48/50\n",
            "367/367 [==============================] - 45s 124ms/step - loss: 0.0059 - accuracy: 0.9987 - val_loss: 0.2969 - val_accuracy: 0.9410\n",
            "Epoch 49/50\n",
            "367/367 [==============================] - 45s 123ms/step - loss: 0.0074 - accuracy: 0.9982 - val_loss: 0.3185 - val_accuracy: 0.9349\n",
            "Epoch 50/50\n",
            "367/367 [==============================] - 45s 124ms/step - loss: 0.0050 - accuracy: 0.9990 - val_loss: 0.3133 - val_accuracy: 0.9360\n"
          ],
          "name": "stdout"
        }
      ]
    },
    {
      "cell_type": "code",
      "metadata": {
        "colab": {
          "base_uri": "https://localhost:8080/"
        },
        "id": "vcP_2qU-iHVB",
        "outputId": "e9c232d7-fcf2-45f5-b342-6b0e2c326d4e"
      },
      "source": [
        "pre=model.predict(test)\n",
        "pre=np.argmax(pre,1)\n",
        "tot=[]\n",
        "for i in range(len(test)):\n",
        "    tot.append(test[i][-1].reshape(-1,43))\n",
        "act=np.stack(tot).reshape(-1,43)\n",
        "act.shape"
      ],
      "execution_count": 17,
      "outputs": [
        {
          "output_type": "execute_result",
          "data": {
            "text/plain": [
              "(7808, 43)"
            ]
          },
          "metadata": {
            "tags": []
          },
          "execution_count": 17
        }
      ]
    },
    {
      "cell_type": "code",
      "metadata": {
        "colab": {
          "base_uri": "https://localhost:8080/"
        },
        "id": "qGa4aPZJsTUz",
        "outputId": "c52a9ec3-6fd5-48b2-c26d-0ab68488c746"
      },
      "source": [
        "from sklearn.metrics import accuracy_score\n",
        "accuracy_score(pre,np.argmax(act,1))"
      ],
      "execution_count": 18,
      "outputs": [
        {
          "output_type": "execute_result",
          "data": {
            "text/plain": [
              "0.9448002049180327"
            ]
          },
          "metadata": {
            "tags": []
          },
          "execution_count": 18
        }
      ]
    },
    {
      "cell_type": "code",
      "metadata": {
        "colab": {
          "base_uri": "https://localhost:8080/",
          "height": 281
        },
        "id": "NAnFWkissUje",
        "outputId": "dbb3479a-b8f6-4014-86f9-e5b0a8bfa265"
      },
      "source": [
        "from matplotlib import pyplot as plt\n",
        "plt.plot(hist.history['loss'])"
      ],
      "execution_count": 19,
      "outputs": [
        {
          "output_type": "execute_result",
          "data": {
            "text/plain": [
              "[<matplotlib.lines.Line2D at 0x7f9218dc8550>]"
            ]
          },
          "metadata": {
            "tags": []
          },
          "execution_count": 19
        },
        {
          "output_type": "display_data",
          "data": {
            "image/png": "[encoded data removed]",
            "text/plain": [
              "<Figure size 432x288 with 1 Axes>"
            ]
          },
          "metadata": {
            "tags": [],
            "needs_background": "light"
          }
        }
      ]
    },
    {
      "cell_type": "code",
      "metadata": {
        "colab": {
          "base_uri": "https://localhost:8080/",
          "height": 281
        },
        "id": "bJZ9AvPRsVt-",
        "outputId": "77cefd6f-0e1d-471b-f9e1-bc69b407d3ce"
      },
      "source": [
        "plt.plot(hist.history['accuracy'])"
      ],
      "execution_count": 20,
      "outputs": [
        {
          "output_type": "execute_result",
          "data": {
            "text/plain": [
              "[<matplotlib.lines.Line2D at 0x7f92188d6e10>]"
            ]
          },
          "metadata": {
            "tags": []
          },
          "execution_count": 20
        },
        {
          "output_type": "display_data",
          "data": {
            "image/png": "[encoded data removed]",
            "text/plain": [
              "<Figure size 432x288 with 1 Axes>"
            ]
          },
          "metadata": {
            "tags": [],
            "needs_background": "light"
          }
        }
      ]
    },
    {
      "cell_type": "code",
      "metadata": {
        "colab": {
          "base_uri": "https://localhost:8080/",
          "height": 281
        },
        "id": "hxPH5QwysXnI",
        "outputId": "97e2f802-8c70-4fb0-b64e-971c4df128c0"
      },
      "source": [
        "plt.plot(hist.history['val_loss'])"
      ],
      "execution_count": 21,
      "outputs": [
        {
          "output_type": "execute_result",
          "data": {
            "text/plain": [
              "[<matplotlib.lines.Line2D at 0x7f9218854810>]"
            ]
          },
          "metadata": {
            "tags": []
          },
          "execution_count": 21
        },
        {
          "output_type": "display_data",
          "data": {
            "image/png": "[encoded data removed]",
            "text/plain": [
              "<Figure size 432x288 with 1 Axes>"
            ]
          },
          "metadata": {
            "tags": [],
            "needs_background": "light"
          }
        }
      ]
    },
    {
      "cell_type": "code",
      "metadata": {
        "colab": {
          "base_uri": "https://localhost:8080/",
          "height": 281
        },
        "id": "H-5nkS7ZsY-m",
        "outputId": "251f9c75-a3aa-47bb-fcb0-5e496cf3b2a8"
      },
      "source": [
        "plt.plot(hist.history['val_accuracy'])"
      ],
      "execution_count": 22,
      "outputs": [
        {
          "output_type": "execute_result",
          "data": {
            "text/plain": [
              "[<matplotlib.lines.Line2D at 0x7f92187c8650>]"
            ]
          },
          "metadata": {
            "tags": []
          },
          "execution_count": 22
        },
        {
          "output_type": "display_data",
          "data": {
            "image/png": "[encoded data removed]",
            "text/plain": [
              "<Figure size 432x288 with 1 Axes>"
            ]
          },
          "metadata": {
            "tags": [],
            "needs_background": "light"
          }
        }
      ]
    },
    {
      "cell_type": "code",
      "metadata": {
        "id": "ROpSpX4_sarZ"
      },
      "source": [
        ""
      ],
      "execution_count": null,
      "outputs": []
    }
  ]
}