{
  "nbformat": 4,
  "nbformat_minor": 0,
  "metadata": {
    "colab": {
      "name": "Sanity check.ipynb",
      "provenance": [],
      "authorship_tag": "ABX9TyOf9c+Q3cKbZPqzayuOAg2a",
      "include_colab_link": true
    },
    "kernelspec": {
      "name": "python3",
      "display_name": "Python 3"
    }
  },
  "cells": [
    {
      "cell_type": "markdown",
      "metadata": {
        "id": "view-in-github",
        "colab_type": "text"
      },
      "source": [
        "<a href=\"https://colab.research.google.com/github/greyhound101/Orbuculum/blob/main/Sanity_check.ipynb\" target=\"_parent\"><img src=\"https://colab.research.google.com/assets/colab-badge.svg\" alt=\"Open In Colab\"/></a>"
      ]
    },
    {
      "cell_type": "code",
      "metadata": {
        "colab": {
          "base_uri": "https://localhost:8080/"
        },
        "id": "wKSHn1WZ3d_r",
        "outputId": "e03a3c2a-8939-44db-8494-c93ba182abe0"
      },
      "source": [
        "import pandas as pd\r\n",
        "df=pd.read_csv('/content/split.csv')\r\n",
        "def clas(a):\r\n",
        "    ls=[]\r\n",
        "    for i in a.split(','):\r\n",
        "        ls.append(int(i.split('/')[2].split('_')[-1]))\r\n",
        "    print(len(list(set(ls))))\r\n",
        "a=df['validation'].apply(clas)\r\n",
        "a=df['train'].apply(clas)\r\n",
        "a=df['test'].apply(clas)\r\n",
        "def abc(a):\r\n",
        "    ls=[]\r\n",
        "    for i in a.split(','):\r\n",
        "        x=int(i.split('/')[-1].split('_')[0])\r\n",
        "        ls.append(x)\r\n",
        "    return list(set(ls))\r\n",
        "df['val_unq']=df['validation'].apply(abc)\r\n",
        "df['train_unq']=df['train'].apply(abc)\r\n",
        "df['test_unq']=df['test'].apply(abc)\r\n",
        "for i in df.iterrows():\r\n",
        "    a,b,c=set(i[1][-1]),set(i[1][-2]),set(i[1][-3])\r\n",
        "    print(set.intersection(a,b))\r\n",
        "    print(set.intersection(c,b))\r\n",
        "    print(set.intersection(c,a))\r\n",
        "    "
      ],
      "execution_count": null,
      "outputs": [
        {
          "output_type": "stream",
          "text": [
            "Mounted at /content/gdrive\n",
            "Mounted at /content/gdrive\n"
          ],
          "name": "stdout"
        }
      ]
    },
    {
      "cell_type": "code",
      "metadata": {
        "id": "4jURoRZD5DZN"
      },
      "source": [
        ""
      ],
      "execution_count": null,
      "outputs": []
    }
  ]
}