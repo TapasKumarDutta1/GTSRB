{
  "nbformat": 4,
  "nbformat_minor": 0,
  "metadata": {
    "colab": {
      "name": "resize_split.ipynb",
      "provenance": [],
      "authorship_tag": "ABX9TyNo2HO+WxDw6qp3ifNLCTRB",
      "include_colab_link": true
    },
    "kernelspec": {
      "name": "python3",
      "display_name": "Python 3"
    }
  },
  "cells": [
    {
      "cell_type": "markdown",
      "metadata": {
        "id": "view-in-github",
        "colab_type": "text"
      },
      "source": [
        "<a href=\"https://colab.research.google.com/github/greyhound101/Orbuculum/blob/main/resize_split.ipynb\" target=\"_parent\"><img src=\"https://colab.research.google.com/assets/colab-badge.svg\" alt=\"Open In Colab\"/></a>"
      ]
    },
    {
      "cell_type": "code",
      "metadata": {
        "colab": {
          "base_uri": "https://localhost:8080/"
        },
        "id": "Ur06MVgm1jxW",
        "outputId": "cb5d735f-8ce3-4a38-8293-17907e312cc1"
      },
      "source": [
        "from google.colab import drive\r\n",
        "drive.mount('/content/gdrive')\r\n",
        "drive.mount(\"/content/gdrive\", force_remount=True)"
      ],
      "execution_count": 1,
      "outputs": [
        {
          "output_type": "stream",
          "text": [
            "Mounted at /content/gdrive\n",
            "Mounted at /content/gdrive\n"
          ],
          "name": "stdout"
        }
      ]
    },
    {
      "cell_type": "code",
      "metadata": {
        "id": "G4XPRBlF15WT"
      },
      "source": [
        "import zipfile\r\n",
        "import pandas as pd\r\n",
        "import glob\r\n",
        "import os\r\n",
        "import cv2\r\n",
        "from tqdm import tqdm\r\n",
        "import random"
      ],
      "execution_count": 2,
      "outputs": []
    },
    {
      "cell_type": "code",
      "metadata": {
        "id": "YR40Xnlc2n4h"
      },
      "source": [
        "import zipfile\r\n",
        "with zipfile.ZipFile('/content/gdrive/MyDrive/GTSRB_Final_Training_Images.zip', 'r') as zip_ref:\r\n",
        "    zip_ref.extractall('/content/')"
      ],
      "execution_count": 3,
      "outputs": []
    },
    {
      "cell_type": "code",
      "metadata": {
        "id": "F-tPpTDR2D8L"
      },
      "source": [
        "cols=['Filename','Width','Height','Roi.X1','Roi.Y1','Roi.X2','Roi.Y2','ClassId']\r\n",
        "for name in glob.glob('/content/GTSRB/Final_Training/Images/*/GT-*.csv'):\r\n",
        "  df=pd.read_csv(name)\r\n",
        "  dk={'Filename':[],'Width':[],'Height':[],'Roi.X1':[],'Roi.Y1':[],'Roi.X2':[],'Roi.Y2':[],'ClassId':[]}\r\n",
        "  for i in df.iterrows():\r\n",
        "    for j in range(8):\r\n",
        "      dk[cols[j]].append(i[1][0].split(';')[j])\r\n",
        "  name=name.replace( \"input\", \"working\" )\r\n",
        "  pd.DataFrame(dk).to_csv(name.split('/')[-1],index=False)"
      ],
      "execution_count": 4,
      "outputs": []
    },
    {
      "cell_type": "code",
      "metadata": {
        "colab": {
          "base_uri": "https://localhost:8080/"
        },
        "id": "Ni10V11B2s5-",
        "outputId": "033e607c-1432-4ced-e6ed-2a43af2fd603"
      },
      "source": [
        "for en,path in enumerate(glob.glob('GT-*.csv')):\r\n",
        "  df=pd.read_csv(path)\r\n",
        "  if en==0:\r\n",
        "    fnl=df\r\n",
        "  else:\r\n",
        "    fnl=pd.concat([df,fnl],0)\r\n",
        "fnl['x_diff']=fnl['Roi.X2']-fnl['Roi.X1']\r\n",
        "fnl['y_diff']=fnl['Roi.Y2']-fnl['Roi.Y1']\r\n",
        "fnl['x_diff'].median(),fnl['y_diff'].median()"
      ],
      "execution_count": 5,
      "outputs": [
        {
          "output_type": "execute_result",
          "data": {
            "text/plain": [
              "(33.0, 32.0)"
            ]
          },
          "metadata": {
            "tags": []
          },
          "execution_count": 5
        }
      ]
    },
    {
      "cell_type": "code",
      "metadata": {
        "colab": {
          "base_uri": "https://localhost:8080/"
        },
        "id": "m4rOCUdt2s2F",
        "outputId": "584d6492-7c5a-4211-d14e-3d3a9c2faf9f"
      },
      "source": [
        "for clas in tqdm(glob.glob('*.csv')):\r\n",
        "  clas=clas.split('-')[-1].split('.')[0]\r\n",
        "  df=pd.read_csv('GT-'+clas+'.csv')\r\n",
        "  for i in df.iterrows():\r\n",
        "    val=i[1].values\r\n",
        "    name=val[0]\r\n",
        "    x1=val[3]\r\n",
        "    x2=val[5]\r\n",
        "    y1=val[4]\r\n",
        "    y2=val[6]\r\n",
        "    total_name='/content/GTSRB/Final_Training/Images/'+clas+'/'+name\r\n",
        "    img=cv2.imread(total_name)\r\n",
        "    try:\r\n",
        "      os.mkdir('/content/gdrive/MyDrive/orc/class_'+clas)\r\n",
        "    except:\r\n",
        "        pass\r\n",
        "    cv2.imwrite('/content/gdrive/MyDrive/orc/class_'+clas+'/'+name,cv2.resize(img[x1:x2,y1:y2,:],(30,30), interpolation = cv2.INTER_AREA))"
      ],
      "execution_count": 8,
      "outputs": [
        {
          "output_type": "stream",
          "text": [
            "\n",
            "  0%|          | 0/43 [00:00<?, ?it/s]\u001b[A\n",
            "  2%|▏         | 1/43 [00:01<00:55,  1.32s/it]\u001b[A\n",
            "  5%|▍         | 2/43 [00:03<01:07,  1.63s/it]\u001b[A\n",
            "  7%|▋         | 3/43 [00:06<01:15,  1.88s/it]\u001b[A\n",
            "  9%|▉         | 4/43 [00:08<01:17,  1.98s/it]\u001b[A\n",
            " 12%|█▏        | 5/43 [00:23<03:42,  5.85s/it]\u001b[A\n",
            " 14%|█▍        | 6/43 [00:27<03:24,  5.52s/it]\u001b[A\n",
            " 16%|█▋        | 7/43 [00:36<03:53,  6.47s/it]\u001b[A\n",
            " 19%|█▊        | 8/43 [00:38<02:55,  5.00s/it]\u001b[A\n",
            " 21%|██        | 9/43 [00:43<02:48,  4.96s/it]\u001b[A\n",
            " 23%|██▎       | 10/43 [00:50<03:05,  5.63s/it]\u001b[A\n",
            " 26%|██▌       | 11/43 [00:58<03:29,  6.54s/it]\u001b[A\n",
            " 28%|██▊       | 12/43 [01:13<04:34,  8.87s/it]\u001b[A\n",
            " 30%|███       | 13/43 [01:22<04:28,  8.95s/it]\u001b[A\n",
            " 33%|███▎      | 14/43 [01:23<03:13,  6.69s/it]\u001b[A\n",
            " 35%|███▍      | 15/43 [01:33<03:35,  7.69s/it]\u001b[A\n",
            " 37%|███▋      | 16/43 [01:47<04:15,  9.47s/it]\u001b[A\n",
            " 40%|███▉      | 17/43 [01:48<03:03,  7.08s/it]\u001b[A\n",
            " 42%|████▏     | 18/43 [01:52<02:33,  6.13s/it]\u001b[A\n",
            " 44%|████▍     | 19/43 [01:56<02:09,  5.40s/it]\u001b[A\n",
            " 47%|████▋     | 20/43 [02:06<02:35,  6.78s/it]\u001b[A\n",
            " 49%|████▉     | 21/43 [02:09<02:02,  5.55s/it]\u001b[A\n",
            " 51%|█████     | 22/43 [02:23<02:51,  8.16s/it]\u001b[A\n",
            " 53%|█████▎    | 23/43 [02:24<02:02,  6.12s/it]\u001b[A\n",
            " 56%|█████▌    | 24/43 [02:27<01:36,  5.10s/it]\u001b[A\n",
            " 58%|█████▊    | 25/43 [02:40<02:13,  7.43s/it]\u001b[A\n",
            " 60%|██████    | 26/43 [02:42<01:37,  5.71s/it]\u001b[A\n",
            " 63%|██████▎   | 27/43 [02:57<02:16,  8.52s/it]\u001b[A\n",
            " 65%|██████▌   | 28/43 [02:59<01:38,  6.58s/it]\u001b[A\n",
            " 67%|██████▋   | 29/43 [03:00<01:10,  5.00s/it]\u001b[A\n",
            " 70%|██████▉   | 30/43 [03:08<01:16,  5.87s/it]\u001b[A\n",
            " 72%|███████▏  | 31/43 [03:11<01:00,  5.06s/it]\u001b[A\n",
            " 74%|███████▍  | 32/43 [03:13<00:45,  4.11s/it]\u001b[A\n",
            " 77%|███████▋  | 33/43 [03:16<00:37,  3.77s/it]\u001b[A\n",
            " 79%|███████▉  | 34/43 [03:25<00:49,  5.48s/it]\u001b[A\n",
            " 81%|████████▏ | 35/43 [03:27<00:33,  4.22s/it]\u001b[A\n",
            " 84%|████████▎ | 36/43 [03:28<00:23,  3.39s/it]\u001b[A\n",
            " 86%|████████▌ | 37/43 [03:31<00:18,  3.09s/it]\u001b[A\n",
            " 88%|████████▊ | 38/43 [03:45<00:32,  6.57s/it]\u001b[A\n",
            " 91%|█████████ | 39/43 [03:50<00:24,  6.15s/it]\u001b[A\n",
            " 93%|█████████▎| 40/43 [03:55<00:16,  5.54s/it]\u001b[A\n",
            " 95%|█████████▌| 41/43 [03:57<00:09,  4.70s/it]\u001b[A\n",
            " 98%|█████████▊| 42/43 [04:13<00:08,  8.08s/it]\u001b[A\n",
            "100%|██████████| 43/43 [04:23<00:00,  6.14s/it]\n"
          ],
          "name": "stderr"
        }
      ]
    },
    {
      "cell_type": "code",
      "metadata": {
        "colab": {
          "base_uri": "https://localhost:8080/"
        },
        "id": "0aazxnvHGMQz",
        "outputId": "6b6b8e69-0073-4ec9-a8ca-676f54c258f5"
      },
      "source": [
        "00000"
      ],
      "execution_count": 14,
      "outputs": [
        {
          "output_type": "execute_result",
          "data": {
            "text/plain": [
              "[]"
            ]
          },
          "metadata": {
            "tags": []
          },
          "execution_count": 14
        }
      ]
    },
    {
      "cell_type": "code",
      "metadata": {
        "id": "m-i7NeId2szO"
      },
      "source": [
        "dk={}\r\n",
        "for en,clas in enumerate(glob.glob('/content/gdrive/MyDrive/orc/class_*')):\r\n",
        "  clas=clas.split('_')[-1]\r\n",
        "  dk[clas]={'train':[],'test':[],'validation':[]}\r\n",
        "  \r\n",
        "  options=glob.glob( '/content/gdrive/MyDrive/orc/class_'+clas+'/*_00000.ppm')\r\n",
        "  options=[a.split('/')[-1].split('_')[0] for a in options]\r\n",
        "  \r\n",
        "  ln=len(options)\r\n",
        "  all=list(range(ln))\r\n",
        "  test_val=round(0.2*ln)\r\n",
        "  \r\n",
        "  test=random.sample(all, test_val)\r\n",
        "  for i in test:\r\n",
        "    all.remove(i)\r\n",
        "  test=[options[i] for i in test]\r\n",
        "  for en,i in enumerate(test):\r\n",
        "    if en==0:  \r\n",
        "        dk[clas]['test']=glob.glob( '/content/gdrive/MyDrive/orc/class_'+clas+'/'+i+'_*.ppm')\r\n",
        "    else:\r\n",
        "        dk[clas]['test']+=glob.glob( '/content/gdrive/MyDrive/orc/class_'+clas+'/'+i+'_*.ppm')\r\n",
        "        \r\n",
        "    \r\n",
        "  validation=random.sample(all, test_val)\r\n",
        "  for i in validation:\r\n",
        "    all.remove(i)\r\n",
        "  validation=[options[i] for i in validation]\r\n",
        "  for en,i in enumerate(validation):\r\n",
        "    if en==0:  \r\n",
        "        dk[clas]['validation']=glob.glob( '/content/gdrive/MyDrive/orc/class_'+clas+'/'+i+'_*.ppm')\r\n",
        "    else:\r\n",
        "        dk[clas]['validation']+=glob.glob( '/content/gdrive/MyDrive/orc/class_'+clas+'/'+i+'_*.ppm')\r\n",
        "    \r\n",
        "  \r\n",
        "  train=[options[i] for i in all]\r\n",
        "  for en,i in enumerate(train):\r\n",
        "    if en==0:  \r\n",
        "        dk[clas]['train']=glob.glob( '/content/gdrive/MyDrive/orc/class_'+clas+'/'+i+'_*.ppm')\r\n",
        "    else:\r\n",
        "        dk[clas]['train']+=glob.glob( '/content/gdrive/MyDrive/orc/class_'+clas+'/'+i+'_*.ppm')"
      ],
      "execution_count": 15,
      "outputs": []
    },
    {
      "cell_type": "code",
      "metadata": {
        "id": "lOq2iMZq2swW"
      },
      "source": [
        "df=pd.DataFrame(dk).T"
      ],
      "execution_count": 16,
      "outputs": []
    },
    {
      "cell_type": "code",
      "metadata": {
        "id": "5IuvjNUF2stb",
        "colab": {
          "base_uri": "https://localhost:8080/",
          "height": 206
        },
        "outputId": "31e3b72c-e9d8-49fe-bc8c-6f210c429c02"
      },
      "source": [
        "df.head()"
      ],
      "execution_count": 21,
      "outputs": [
        {
          "output_type": "execute_result",
          "data": {
            "text/html": [
              "<div>\n",
              "<style scoped>\n",
              "    .dataframe tbody tr th:only-of-type {\n",
              "        vertical-align: middle;\n",
              "    }\n",
              "\n",
              "    .dataframe tbody tr th {\n",
              "        vertical-align: top;\n",
              "    }\n",
              "\n",
              "    .dataframe thead th {\n",
              "        text-align: right;\n",
              "    }\n",
              "</style>\n",
              "<table border=\"1\" class=\"dataframe\">\n",
              "  <thead>\n",
              "    <tr style=\"text-align: right;\">\n",
              "      <th></th>\n",
              "      <th>train</th>\n",
              "      <th>test</th>\n",
              "      <th>validation</th>\n",
              "    </tr>\n",
              "  </thead>\n",
              "  <tbody>\n",
              "    <tr>\n",
              "      <th>00042</th>\n",
              "      <td>[/content/gdrive/MyDrive/orc/class_00042/00001...</td>\n",
              "      <td>[/content/gdrive/MyDrive/orc/class_00042/00005...</td>\n",
              "      <td>[/content/gdrive/MyDrive/orc/class_00042/00000...</td>\n",
              "    </tr>\n",
              "    <tr>\n",
              "      <th>00022</th>\n",
              "      <td>[/content/gdrive/MyDrive/orc/class_00022/00001...</td>\n",
              "      <td>[/content/gdrive/MyDrive/orc/class_00022/00003...</td>\n",
              "      <td>[/content/gdrive/MyDrive/orc/class_00022/00012...</td>\n",
              "    </tr>\n",
              "    <tr>\n",
              "      <th>00036</th>\n",
              "      <td>[/content/gdrive/MyDrive/orc/class_00036/00000...</td>\n",
              "      <td>[/content/gdrive/MyDrive/orc/class_00036/00004...</td>\n",
              "      <td>[/content/gdrive/MyDrive/orc/class_00036/00010...</td>\n",
              "    </tr>\n",
              "    <tr>\n",
              "      <th>00040</th>\n",
              "      <td>[/content/gdrive/MyDrive/orc/class_00040/00000...</td>\n",
              "      <td>[/content/gdrive/MyDrive/orc/class_00040/00010...</td>\n",
              "      <td>[/content/gdrive/MyDrive/orc/class_00040/00002...</td>\n",
              "    </tr>\n",
              "    <tr>\n",
              "      <th>00002</th>\n",
              "      <td>[/content/gdrive/MyDrive/orc/class_00002/00000...</td>\n",
              "      <td>[/content/gdrive/MyDrive/orc/class_00002/00053...</td>\n",
              "      <td>[/content/gdrive/MyDrive/orc/class_00002/00017...</td>\n",
              "    </tr>\n",
              "  </tbody>\n",
              "</table>\n",
              "</div>"
            ],
            "text/plain": [
              "                                                   train  ...                                         validation\n",
              "00042  [/content/gdrive/MyDrive/orc/class_00042/00001...  ...  [/content/gdrive/MyDrive/orc/class_00042/00000...\n",
              "00022  [/content/gdrive/MyDrive/orc/class_00022/00001...  ...  [/content/gdrive/MyDrive/orc/class_00022/00012...\n",
              "00036  [/content/gdrive/MyDrive/orc/class_00036/00000...  ...  [/content/gdrive/MyDrive/orc/class_00036/00010...\n",
              "00040  [/content/gdrive/MyDrive/orc/class_00040/00000...  ...  [/content/gdrive/MyDrive/orc/class_00040/00002...\n",
              "00002  [/content/gdrive/MyDrive/orc/class_00002/00000...  ...  [/content/gdrive/MyDrive/orc/class_00002/00017...\n",
              "\n",
              "[5 rows x 3 columns]"
            ]
          },
          "metadata": {
            "tags": []
          },
          "execution_count": 21
        }
      ]
    },
    {
      "cell_type": "code",
      "metadata": {
        "id": "HMziJY5v2sqn"
      },
      "source": [
        "df.to_csv('/content/gdrive/My Drive/orc/split.csv')"
      ],
      "execution_count": 18,
      "outputs": []
    },
    {
      "cell_type": "code",
      "metadata": {
        "id": "Qato1HmzGlGk"
      },
      "source": [
        ""
      ],
      "execution_count": null,
      "outputs": []
    }
  ]
}