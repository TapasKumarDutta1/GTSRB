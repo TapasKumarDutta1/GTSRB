{
  "nbformat": 4,
  "nbformat_minor": 0,
  "metadata": {
    "colab": {
      "name": "resize_split.ipynb",
      "provenance": [],
      "authorship_tag": "ABX9TyOlRKKzDxfnEdif4pQyD1A/",
      "include_colab_link": true
    },
    "kernelspec": {
      "name": "python3",
      "display_name": "Python 3"
    }
  },
  "cells": [
    {
      "cell_type": "markdown",
      "metadata": {
        "id": "view-in-github",
        "colab_type": "text"
      },
      "source": [
        "<a href=\"https://colab.research.google.com/github/greyhound101/Orbuculum/blob/main/resize_split.ipynb\" target=\"_parent\"><img src=\"https://colab.research.google.com/assets/colab-badge.svg\" alt=\"Open In Colab\"/></a>"
      ]
    },
    {
      "cell_type": "code",
      "metadata": {
        "colab": {
          "base_uri": "https://localhost:8080/"
        },
        "id": "Ur06MVgm1jxW",
        "outputId": "99b5a028-8694-4e4b-9216-6dc4b9b1f210"
      },
      "source": [
        "from google.colab import drive\r\n",
        "drive.mount('/content/gdrive')\r\n",
        "drive.mount(\"/content/gdrive\", force_remount=True)"
      ],
      "execution_count": 1,
      "outputs": [
        {
          "output_type": "stream",
          "text": [
            "Mounted at /content/gdrive\n",
            "Mounted at /content/gdrive\n"
          ],
          "name": "stdout"
        }
      ]
    },
    {
      "cell_type": "code",
      "metadata": {
        "id": "G4XPRBlF15WT"
      },
      "source": [
        "import zipfile\r\n",
        "import pandas as pd\r\n",
        "import glob\r\n",
        "import os\r\n",
        "import cv2\r\n",
        "from tqdm import tqdm\r\n",
        "import random"
      ],
      "execution_count": 2,
      "outputs": []
    },
    {
      "cell_type": "code",
      "metadata": {
        "id": "YR40Xnlc2n4h"
      },
      "source": [
        "import zipfile\r\n",
        "with zipfile.ZipFile('/content/gdrive/MyDrive/GTSRB_Final_Training_Images.zip', 'r') as zip_ref:\r\n",
        "    zip_ref.extractall('/content/')"
      ],
      "execution_count": 3,
      "outputs": []
    },
    {
      "cell_type": "code",
      "metadata": {
        "id": "F-tPpTDR2D8L"
      },
      "source": [
        "cols=['Filename','Width','Height','Roi.X1','Roi.Y1','Roi.X2','Roi.Y2','ClassId']\r\n",
        "for name in glob.glob('/content/GTSRB/Final_Training/Images/*/GT-*.csv'):\r\n",
        "  df=pd.read_csv(name)\r\n",
        "  dk={'Filename':[],'Width':[],'Height':[],'Roi.X1':[],'Roi.Y1':[],'Roi.X2':[],'Roi.Y2':[],'ClassId':[]}\r\n",
        "  for i in df.iterrows():\r\n",
        "    for j in range(8):\r\n",
        "      dk[cols[j]].append(i[1][0].split(';')[j])\r\n",
        "  name=name.replace( \"input\", \"working\" )\r\n",
        "  pd.DataFrame(dk).to_csv(name.split('/')[-1],index=False)"
      ],
      "execution_count": 4,
      "outputs": []
    },
    {
      "cell_type": "code",
      "metadata": {
        "colab": {
          "base_uri": "https://localhost:8080/"
        },
        "id": "Ni10V11B2s5-",
        "outputId": "48700b7e-33d7-4b82-f0f0-3dcd7b49234f"
      },
      "source": [
        "for en,path in enumerate(glob.glob('GT-*.csv')):\r\n",
        "  df=pd.read_csv(path)\r\n",
        "  if en==0:\r\n",
        "    fnl=df\r\n",
        "  else:\r\n",
        "    fnl=pd.concat([df,fnl],0)\r\n",
        "fnl['x_diff']=fnl['Roi.X2']-fnl['Roi.X1']\r\n",
        "fnl['y_diff']=fnl['Roi.Y2']-fnl['Roi.Y1']\r\n",
        "fnl['x_diff'].median(),fnl['y_diff'].median()"
      ],
      "execution_count": 5,
      "outputs": [
        {
          "output_type": "execute_result",
          "data": {
            "text/plain": [
              "(33.0, 32.0)"
            ]
          },
          "metadata": {
            "tags": []
          },
          "execution_count": 5
        }
      ]
    },
    {
      "cell_type": "code",
      "metadata": {
        "colab": {
          "base_uri": "https://localhost:8080/"
        },
        "id": "m4rOCUdt2s2F",
        "outputId": "4eb73df3-8020-4d35-bbdf-0b8d719404a0"
      },
      "source": [
        "for clas in tqdm(glob.glob('*.csv')):\r\n",
        "  clas=clas.split('-')[-1].split('.')[0]\r\n",
        "  df=pd.read_csv('GT-'+clas+'.csv')\r\n",
        "  for i in df.iterrows():\r\n",
        "    val=i[1].values\r\n",
        "    name=val[0]\r\n",
        "    x1=val[3]\r\n",
        "    x2=val[5]\r\n",
        "    y1=val[4]\r\n",
        "    y2=val[6]\r\n",
        "    total_name='/content/GTSRB/Final_Training/Images/'+clas+'/'+name\r\n",
        "    img=cv2.imread(total_name)\r\n",
        "    try:\r\n",
        "        os.mkdir('class_'+clas)\r\n",
        "    except:\r\n",
        "        pass\r\n",
        "    cv2.imwrite('/content/gdrive/My Drive/orc/class_'+clas+'/'+name,cv2.resize(img[x1:x2,y1:y2,:],(30,30), interpolation = cv2.INTER_AREA))"
      ],
      "execution_count": 9,
      "outputs": [
        {
          "output_type": "stream",
          "text": [
            "100%|██████████| 43/43 [00:18<00:00,  2.28it/s]\n"
          ],
          "name": "stderr"
        }
      ]
    },
    {
      "cell_type": "code",
      "metadata": {
        "id": "m-i7NeId2szO"
      },
      "source": [
        "dk={}\r\n",
        "for en,clas in enumerate(glob.glob('class_*')):\r\n",
        "  clas=clas.split('_')[-1]\r\n",
        "  dk[clas]={'train':[],'test':[],'validation':[]}\r\n",
        "  \r\n",
        "  options=glob.glob( 'class_'+clas+'/*_00000.ppm')\r\n",
        "  options=[a.split('/')[-1].split('_')[0] for a in options]\r\n",
        "  \r\n",
        "  ln=len(options)\r\n",
        "  all=list(range(ln))\r\n",
        "  test_val=round(0.2*ln)\r\n",
        "  \r\n",
        "  test=random.sample(all, test_val)\r\n",
        "  for i in test:\r\n",
        "    all.remove(i)\r\n",
        "  test=[options[i] for i in test]\r\n",
        "  for en,i in enumerate(test):\r\n",
        "    if en==0:  \r\n",
        "        dk[clas]['test']=glob.glob( 'class_'+clas+'/'+i+'_*.ppm')\r\n",
        "    else:\r\n",
        "        dk[clas]['test']+=glob.glob( 'class_'+clas+'/'+i+'_*.ppm')\r\n",
        "        \r\n",
        "    \r\n",
        "  validation=random.sample(all, test_val)\r\n",
        "  for i in validation:\r\n",
        "    all.remove(i)\r\n",
        "  validation=[options[i] for i in validation]\r\n",
        "  for en,i in enumerate(validation):\r\n",
        "    if en==0:  \r\n",
        "        dk[clas]['validation']=glob.glob( 'class_'+clas+'/'+i+'_*.ppm')\r\n",
        "    else:\r\n",
        "        dk[clas]['validation']+=glob.glob( 'class_'+clas+'/'+i+'_*.ppm')\r\n",
        "    \r\n",
        "  \r\n",
        "  train=[options[i] for i in all]\r\n",
        "  for en,i in enumerate(train):\r\n",
        "    if en==0:  \r\n",
        "        dk[clas]['train']=glob.glob( 'class_'+clas+'/'+i+'_*.ppm')\r\n",
        "    else:\r\n",
        "        dk[clas]['train']+=glob.glob( 'class_'+clas+'/'+i+'_*.ppm')"
      ],
      "execution_count": null,
      "outputs": []
    },
    {
      "cell_type": "code",
      "metadata": {
        "id": "t1-bx-0F3Agw"
      },
      "source": [
        "os.mkdir('/content/gdrive/My Drive/orc')"
      ],
      "execution_count": 7,
      "outputs": []
    },
    {
      "cell_type": "code",
      "metadata": {
        "id": "lOq2iMZq2swW"
      },
      "source": [
        "df=pd.DataFrame(dk).T\r\n",
        "df.to_csv('/content/gdrive/My Drive/orc/split.csv')"
      ],
      "execution_count": 8,
      "outputs": []
    },
    {
      "cell_type": "code",
      "metadata": {
        "id": "5IuvjNUF2stb"
      },
      "source": [
        ""
      ],
      "execution_count": null,
      "outputs": []
    },
    {
      "cell_type": "code",
      "metadata": {
        "id": "HMziJY5v2sqn"
      },
      "source": [
        ""
      ],
      "execution_count": null,
      "outputs": []
    }
  ]
}