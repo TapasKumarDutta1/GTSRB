{
  "nbformat": 4,
  "nbformat_minor": 0,
  "metadata": {
    "colab": {
      "name": "resize_split.ipynb",
      "provenance": [],
      "authorship_tag": "ABX9TyPDqJgAsO/mpabI1adkxqWo",
      "include_colab_link": true
    },
    "kernelspec": {
      "name": "python3",
      "display_name": "Python 3"
    }
  },
  "cells": [
    {
      "cell_type": "markdown",
      "metadata": {
        "id": "view-in-github",
        "colab_type": "text"
      },
      "source": [
        "<a href=\"https://colab.research.google.com/github/greyhound101/Orbuculum/blob/main/resize_split.ipynb\" target=\"_parent\"><img src=\"https://colab.research.google.com/assets/colab-badge.svg\" alt=\"Open In Colab\"/></a>"
      ]
    },
    {
      "cell_type": "code",
      "metadata": {
        "colab": {
          "base_uri": "https://localhost:8080/"
        },
        "id": "Ur06MVgm1jxW",
        "outputId": "cb5d735f-8ce3-4a38-8293-17907e312cc1"
      },
      "source": [
        "from google.colab import drive\r\n",
        "drive.mount('/content/gdrive')\r\n",
        "drive.mount(\"/content/gdrive\", force_remount=True)"
      ],
      "execution_count": 1,
      "outputs": [
        {
          "output_type": "stream",
          "text": [
            "Mounted at /content/gdrive\n",
            "Mounted at /content/gdrive\n"
          ],
          "name": "stdout"
        }
      ]
    },
    {
      "cell_type": "code",
      "metadata": {
        "id": "G4XPRBlF15WT"
      },
      "source": [
        "import zipfile\r\n",
        "import pandas as pd\r\n",
        "import glob\r\n",
        "import os\r\n",
        "import cv2\r\n",
        "from tqdm import tqdm\r\n",
        "import random"
      ],
      "execution_count": 2,
      "outputs": []
    },
    {
      "cell_type": "code",
      "metadata": {
        "id": "YR40Xnlc2n4h"
      },
      "source": [
        "import zipfile\r\n",
        "with zipfile.ZipFile('/content/gdrive/MyDrive/GTSRB_Final_Training_Images.zip', 'r') as zip_ref:\r\n",
        "    zip_ref.extractall('/content/')"
      ],
      "execution_count": 3,
      "outputs": []
    },
    {
      "cell_type": "code",
      "metadata": {
        "id": "F-tPpTDR2D8L"
      },
      "source": [
        "cols=['Filename','Width','Height','Roi.X1','Roi.Y1','Roi.X2','Roi.Y2','ClassId']\r\n",
        "for name in glob.glob('/content/GTSRB/Final_Training/Images/*/GT-*.csv'):\r\n",
        "  df=pd.read_csv(name)\r\n",
        "  dk={'Filename':[],'Width':[],'Height':[],'Roi.X1':[],'Roi.Y1':[],'Roi.X2':[],'Roi.Y2':[],'ClassId':[]}\r\n",
        "  for i in df.iterrows():\r\n",
        "    for j in range(8):\r\n",
        "      dk[cols[j]].append(i[1][0].split(';')[j])\r\n",
        "  name=name.replace( \"input\", \"working\" )\r\n",
        "  pd.DataFrame(dk).to_csv(name.split('/')[-1],index=False)"
      ],
      "execution_count": 4,
      "outputs": []
    },
    {
      "cell_type": "code",
      "metadata": {
        "colab": {
          "base_uri": "https://localhost:8080/"
        },
        "id": "Ni10V11B2s5-",
        "outputId": "033e607c-1432-4ced-e6ed-2a43af2fd603"
      },
      "source": [
        "for en,path in enumerate(glob.glob('GT-*.csv')):\r\n",
        "  df=pd.read_csv(path)\r\n",
        "  if en==0:\r\n",
        "    fnl=df\r\n",
        "  else:\r\n",
        "    fnl=pd.concat([df,fnl],0)\r\n",
        "fnl['x_diff']=fnl['Roi.X2']-fnl['Roi.X1']\r\n",
        "fnl['y_diff']=fnl['Roi.Y2']-fnl['Roi.Y1']\r\n",
        "fnl['x_diff'].median(),fnl['y_diff'].median()"
      ],
      "execution_count": 5,
      "outputs": [
        {
          "output_type": "execute_result",
          "data": {
            "text/plain": [
              "(33.0, 32.0)"
            ]
          },
          "metadata": {
            "tags": []
          },
          "execution_count": 5
        }
      ]
    },
    {
      "cell_type": "code",
      "metadata": {
        "colab": {
          "base_uri": "https://localhost:8080/"
        },
        "id": "m4rOCUdt2s2F",
        "outputId": "bcbbc3c4-40d1-40ac-de07-0f1c18ff8b8c"
      },
      "source": [
        "for clas in tqdm(glob.glob('*.csv')):\r\n",
        "  clas=clas.split('-')[-1].split('.')[0]\r\n",
        "  df=pd.read_csv('GT-'+clas+'.csv')\r\n",
        "  for i in df.iterrows():\r\n",
        "    val=i[1].values\r\n",
        "    name=val[0]\r\n",
        "    x1=val[3]\r\n",
        "    x2=val[5]\r\n",
        "    y1=val[4]\r\n",
        "    y2=val[6]\r\n",
        "    total_name='/content/GTSRB/Final_Training/Images/'+clas+'/'+name\r\n",
        "    img=cv2.imread(total_name)\r\n",
        "    try:\r\n",
        "      os.mkdir('/content/gdrive/MyDrive/orc/class_'+clas)\r\n",
        "    except:\r\n",
        "      pass\r\n",
        "    cv2.imwrite('/content/gdrive/MyDrive/orc/class_'+clas+'/'+name,cv2.resize(img[x1:x2,y1:y2,:],(30,30), interpolation = cv2.INTER_AREA))"
      ],
      "execution_count": 23,
      "outputs": [
        {
          "output_type": "stream",
          "text": [
            "\n",
            "\n",
            "  0%|          | 0/43 [00:00<?, ?it/s]\u001b[A\u001b[A\n",
            "\n",
            "  2%|▏         | 1/43 [00:01<00:59,  1.43s/it]\u001b[A\u001b[A\n",
            "\n",
            "  5%|▍         | 2/43 [00:03<01:10,  1.72s/it]\u001b[A\u001b[A\n",
            "\n",
            "  7%|▋         | 3/43 [00:06<01:16,  1.92s/it]\u001b[A\u001b[A\n",
            "\n",
            "  9%|▉         | 4/43 [00:08<01:18,  2.00s/it]\u001b[A\u001b[A\n",
            "\n",
            " 12%|█▏        | 5/43 [00:22<03:30,  5.54s/it]\u001b[A\u001b[A\n",
            "\n",
            " 14%|█▍        | 6/43 [00:26<03:16,  5.31s/it]\u001b[A\u001b[A\n",
            "\n",
            " 16%|█▋        | 7/43 [00:34<03:33,  5.92s/it]\u001b[A\u001b[A\n",
            "\n",
            " 19%|█▊        | 8/43 [00:36<02:43,  4.67s/it]\u001b[A\u001b[A\n",
            "\n",
            " 21%|██        | 9/43 [00:40<02:34,  4.55s/it]\u001b[A\u001b[A\n",
            "\n",
            " 23%|██▎       | 10/43 [00:47<02:51,  5.21s/it]\u001b[A\u001b[A\n",
            "\n",
            " 26%|██▌       | 11/43 [00:55<03:13,  6.06s/it]\u001b[A\u001b[A\n",
            "\n",
            " 28%|██▊       | 12/43 [01:08<04:12,  8.13s/it]\u001b[A\u001b[A\n",
            "\n",
            " 30%|███       | 13/43 [01:16<04:08,  8.30s/it]\u001b[A\u001b[A\n",
            "\n",
            " 33%|███▎      | 14/43 [01:18<03:01,  6.26s/it]\u001b[A\u001b[A\n",
            "\n",
            " 35%|███▍      | 15/43 [01:27<03:20,  7.16s/it]\u001b[A\u001b[A\n",
            "\n",
            " 37%|███▋      | 16/43 [01:39<03:55,  8.71s/it]\u001b[A\u001b[A\n",
            "\n",
            " 40%|███▉      | 17/43 [01:41<02:50,  6.54s/it]\u001b[A\u001b[A\n",
            "\n",
            " 42%|████▏     | 18/43 [01:45<02:22,  5.68s/it]\u001b[A\u001b[A\n",
            "\n",
            " 44%|████▍     | 19/43 [01:48<01:59,  4.98s/it]\u001b[A\u001b[A\n",
            "\n",
            " 47%|████▋     | 20/43 [01:57<02:20,  6.11s/it]\u001b[A\u001b[A\n",
            "\n",
            " 49%|████▉     | 21/43 [01:59<01:50,  5.04s/it]\u001b[A\u001b[A\n",
            "\n",
            " 51%|█████     | 22/43 [02:11<02:31,  7.22s/it]\u001b[A\u001b[A\n",
            "\n",
            " 53%|█████▎    | 23/43 [02:13<01:48,  5.44s/it]\u001b[A\u001b[A\n",
            "\n",
            " 56%|█████▌    | 24/43 [02:15<01:26,  4.57s/it]\u001b[A\u001b[A\n",
            "\n",
            " 58%|█████▊    | 25/43 [02:27<01:58,  6.61s/it]\u001b[A\u001b[A\n",
            "\n",
            " 60%|██████    | 26/43 [02:28<01:27,  5.13s/it]\u001b[A\u001b[A\n",
            "\n",
            " 63%|██████▎   | 27/43 [02:42<02:00,  7.56s/it]\u001b[A\u001b[A\n",
            "\n",
            " 65%|██████▌   | 28/43 [02:44<01:28,  5.88s/it]\u001b[A\u001b[A\n",
            "\n",
            " 67%|██████▋   | 29/43 [02:45<01:02,  4.50s/it]\u001b[A\u001b[A\n",
            "\n",
            " 70%|██████▉   | 30/43 [02:52<01:09,  5.34s/it]\u001b[A\u001b[A\n",
            "\n",
            " 72%|███████▏  | 31/43 [02:55<00:56,  4.68s/it]\u001b[A\u001b[A\n",
            "\n",
            " 74%|███████▍  | 32/43 [02:57<00:41,  3.80s/it]\u001b[A\u001b[A\n",
            "\n",
            " 77%|███████▋  | 33/43 [03:00<00:34,  3.49s/it]\u001b[A\u001b[A\n",
            "\n",
            " 79%|███████▉  | 34/43 [03:08<00:45,  5.03s/it]\u001b[A\u001b[A\n",
            "\n",
            " 81%|████████▏ | 35/43 [03:10<00:31,  3.91s/it]\u001b[A\u001b[A\n",
            "\n",
            " 84%|████████▎ | 36/43 [03:11<00:22,  3.18s/it]\u001b[A\u001b[A\n",
            "\n",
            " 86%|████████▌ | 37/43 [03:13<00:17,  2.88s/it]\u001b[A\u001b[A\n",
            "\n",
            " 88%|████████▊ | 38/43 [03:26<00:28,  5.75s/it]\u001b[A\u001b[A\n",
            "\n",
            " 91%|█████████ | 39/43 [03:31<00:21,  5.46s/it]\u001b[A\u001b[A\n",
            "\n",
            " 93%|█████████▎| 40/43 [03:34<00:14,  4.96s/it]\u001b[A\u001b[A\n",
            "\n",
            " 95%|█████████▌| 41/43 [03:37<00:08,  4.23s/it]\u001b[A\u001b[A\n",
            "\n",
            " 98%|█████████▊| 42/43 [03:50<00:06,  6.97s/it]\u001b[A\u001b[A\n",
            "\n",
            "100%|██████████| 43/43 [03:59<00:00,  5.57s/it]\n"
          ],
          "name": "stderr"
        }
      ]
    },
    {
      "cell_type": "code",
      "metadata": {
        "id": "m-i7NeId2szO"
      },
      "source": [
        "dk={}\r\n",
        "for en,clas in enumerate(glob.glob('/content/gdrive/MyDrive/orc/class_*')):\r\n",
        "  clas=clas.split('_')[-1]\r\n",
        "  dk[clas]={'train':[],'test':[],'validation':[]}\r\n",
        "  \r\n",
        "  options=glob.glob( '/content/gdrive/MyDrive/orc/class_'+clas+'/*_00000.ppm')\r\n",
        "  options=[a.split('/')[-1].split('_')[0] for a in options]\r\n",
        "  \r\n",
        "  ln=len(options)\r\n",
        "  all=list(range(ln))\r\n",
        "  test_val=round(0.2*ln)\r\n",
        "  \r\n",
        "  test=random.sample(all, test_val)\r\n",
        "  for i in test:\r\n",
        "    all.remove(i)\r\n",
        "  test=[options[i] for i in test]\r\n",
        "  for en,i in enumerate(test):\r\n",
        "    if en==0:  \r\n",
        "        dk[clas]['test']=glob.glob( '/content/gdrive/MyDrive/orc/class_'+clas+'/'+i+'_*.ppm')\r\n",
        "    else:\r\n",
        "        dk[clas]['test']+=glob.glob( '/content/gdrive/MyDrive/orc/class_'+clas+'/'+i+'_*.ppm')\r\n",
        "        \r\n",
        "    \r\n",
        "  validation=random.sample(all, test_val)\r\n",
        "  for i in validation:\r\n",
        "    all.remove(i)\r\n",
        "  validation=[options[i] for i in validation]\r\n",
        "  for en,i in enumerate(validation):\r\n",
        "    if en==0:  \r\n",
        "        dk[clas]['validation']=glob.glob( '/content/gdrive/MyDrive/orc/class_'+clas+'/'+i+'_*.ppm')\r\n",
        "    else:\r\n",
        "        dk[clas]['validation']+=glob.glob( '/content/gdrive/MyDrive/orc/class_'+clas+'/'+i+'_*.ppm')\r\n",
        "    \r\n",
        "  \r\n",
        "  train=[options[i] for i in all]\r\n",
        "  for en,i in enumerate(train):\r\n",
        "    if en==0:  \r\n",
        "        dk[clas]['train']=glob.glob( '/content/gdrive/MyDrive/orc/class_'+clas+'/'+i+'_*.ppm')\r\n",
        "    else:\r\n",
        "        dk[clas]['train']+=glob.glob( '/content/gdrive/MyDrive/orc/class_'+clas+'/'+i+'_*.ppm')"
      ],
      "execution_count": 15,
      "outputs": []
    },
    {
      "cell_type": "code",
      "metadata": {
        "id": "lOq2iMZq2swW"
      },
      "source": [
        "df=pd.DataFrame(dk).T"
      ],
      "execution_count": 16,
      "outputs": []
    },
    {
      "cell_type": "code",
      "metadata": {
        "id": "5IuvjNUF2stb",
        "colab": {
          "base_uri": "https://localhost:8080/",
          "height": 206
        },
        "outputId": "31e3b72c-e9d8-49fe-bc8c-6f210c429c02"
      },
      "source": [
        "df.head()"
      ],
      "execution_count": 21,
      "outputs": [
        {
          "output_type": "execute_result",
          "data": {
            "text/html": [
              "<div>\n",
              "<style scoped>\n",
              "    .dataframe tbody tr th:only-of-type {\n",
              "        vertical-align: middle;\n",
              "    }\n",
              "\n",
              "    .dataframe tbody tr th {\n",
              "        vertical-align: top;\n",
              "    }\n",
              "\n",
              "    .dataframe thead th {\n",
              "        text-align: right;\n",
              "    }\n",
              "</style>\n",
              "<table border=\"1\" class=\"dataframe\">\n",
              "  <thead>\n",
              "    <tr style=\"text-align: right;\">\n",
              "      <th></th>\n",
              "      <th>train</th>\n",
              "      <th>test</th>\n",
              "      <th>validation</th>\n",
              "    </tr>\n",
              "  </thead>\n",
              "  <tbody>\n",
              "    <tr>\n",
              "      <th>00042</th>\n",
              "      <td>[/content/gdrive/MyDrive/orc/class_00042/00001...</td>\n",
              "      <td>[/content/gdrive/MyDrive/orc/class_00042/00005...</td>\n",
              "      <td>[/content/gdrive/MyDrive/orc/class_00042/00000...</td>\n",
              "    </tr>\n",
              "    <tr>\n",
              "      <th>00022</th>\n",
              "      <td>[/content/gdrive/MyDrive/orc/class_00022/00001...</td>\n",
              "      <td>[/content/gdrive/MyDrive/orc/class_00022/00003...</td>\n",
              "      <td>[/content/gdrive/MyDrive/orc/class_00022/00012...</td>\n",
              "    </tr>\n",
              "    <tr>\n",
              "      <th>00036</th>\n",
              "      <td>[/content/gdrive/MyDrive/orc/class_00036/00000...</td>\n",
              "      <td>[/content/gdrive/MyDrive/orc/class_00036/00004...</td>\n",
              "      <td>[/content/gdrive/MyDrive/orc/class_00036/00010...</td>\n",
              "    </tr>\n",
              "    <tr>\n",
              "      <th>00040</th>\n",
              "      <td>[/content/gdrive/MyDrive/orc/class_00040/00000...</td>\n",
              "      <td>[/content/gdrive/MyDrive/orc/class_00040/00010...</td>\n",
              "      <td>[/content/gdrive/MyDrive/orc/class_00040/00002...</td>\n",
              "    </tr>\n",
              "    <tr>\n",
              "      <th>00002</th>\n",
              "      <td>[/content/gdrive/MyDrive/orc/class_00002/00000...</td>\n",
              "      <td>[/content/gdrive/MyDrive/orc/class_00002/00053...</td>\n",
              "      <td>[/content/gdrive/MyDrive/orc/class_00002/00017...</td>\n",
              "    </tr>\n",
              "  </tbody>\n",
              "</table>\n",
              "</div>"
            ],
            "text/plain": [
              "                                                   train  ...                                         validation\n",
              "00042  [/content/gdrive/MyDrive/orc/class_00042/00001...  ...  [/content/gdrive/MyDrive/orc/class_00042/00000...\n",
              "00022  [/content/gdrive/MyDrive/orc/class_00022/00001...  ...  [/content/gdrive/MyDrive/orc/class_00022/00012...\n",
              "00036  [/content/gdrive/MyDrive/orc/class_00036/00000...  ...  [/content/gdrive/MyDrive/orc/class_00036/00010...\n",
              "00040  [/content/gdrive/MyDrive/orc/class_00040/00000...  ...  [/content/gdrive/MyDrive/orc/class_00040/00002...\n",
              "00002  [/content/gdrive/MyDrive/orc/class_00002/00000...  ...  [/content/gdrive/MyDrive/orc/class_00002/00017...\n",
              "\n",
              "[5 rows x 3 columns]"
            ]
          },
          "metadata": {
            "tags": []
          },
          "execution_count": 21
        }
      ]
    },
    {
      "cell_type": "code",
      "metadata": {
        "id": "HMziJY5v2sqn"
      },
      "source": [
        "df.to_csv('/content/gdrive/My Drive/orc/split.csv')"
      ],
      "execution_count": 18,
      "outputs": []
    },
    {
      "cell_type": "code",
      "metadata": {
        "id": "Qato1HmzGlGk"
      },
      "source": [
        ""
      ],
      "execution_count": null,
      "outputs": []
    }
  ]
}