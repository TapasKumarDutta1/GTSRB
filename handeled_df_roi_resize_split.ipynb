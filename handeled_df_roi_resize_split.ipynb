{
  "nbformat": 4,
  "nbformat_minor": 0,
  "metadata": {
    "colab": {
      "name": "handeled_df_roi_resize_split.ipynb",
      "provenance": [],
      "authorship_tag": "ABX9TyNpFG0lvtW7dVeZ7fIy0EUB",
      "include_colab_link": true
    },
    "kernelspec": {
      "name": "python3",
      "display_name": "Python 3"
    }
  },
  "cells": [
    {
      "cell_type": "markdown",
      "metadata": {
        "id": "view-in-github",
        "colab_type": "text"
      },
      "source": [
        "<a href=\"https://colab.research.google.com/github/greyhound101/Orbuculum/blob/main/handeled_df_roi_resize_split.ipynb\" target=\"_parent\"><img src=\"https://colab.research.google.com/assets/colab-badge.svg\" alt=\"Open In Colab\"/></a>"
      ]
    },
    {
      "cell_type": "code",
      "metadata": {
        "colab": {
          "base_uri": "https://localhost:8080/"
        },
        "id": "4CaB_3l8RfJ_",
        "outputId": "3100f3fe-0485-40b0-b608-048569f0ac10"
      },
      "source": [
        "from google.colab import drive\r\n",
        "drive.mount('/content/gdrive')\r\n",
        "drive.mount(\"/content/gdrive\", force_remount=True)"
      ],
      "execution_count": 1,
      "outputs": [
        {
          "output_type": "stream",
          "text": [
            "Drive already mounted at /content/gdrive; to attempt to forcibly remount, call drive.mount(\"/content/gdrive\", force_remount=True).\n",
            "Mounted at /content/gdrive\n"
          ],
          "name": "stdout"
        }
      ]
    },
    {
      "cell_type": "code",
      "metadata": {
        "id": "08nVD6lrsvs_"
      },
      "source": [
        "import zipfile\r\n",
        "import pandas as pd\r\n",
        "import glob\r\n",
        "import os\r\n",
        "import cv2\r\n",
        "from tqdm import tqdm\r\n",
        "import random"
      ],
      "execution_count": null,
      "outputs": []
    },
    {
      "cell_type": "code",
      "metadata": {
        "id": "vTolQfgZRfqa"
      },
      "source": [
        "\r\n",
        "with zipfile.ZipFile(\"/content/gdrive/MyDrive/GTSRB_Final_Training_Images.zip\" , 'r') as zip_ref:\r\n",
        "    zip_ref.extractall('/content/')"
      ],
      "execution_count": 2,
      "outputs": []
    },
    {
      "cell_type": "code",
      "metadata": {
        "id": "yKPZWfCXR5R5"
      },
      "source": [
        "\r\n",
        "cols=['Filename','Width','Height','Roi.X1','Roi.Y1','Roi.X2','Roi.Y2','ClassId']\r\n",
        "for name in glob.glob('/content/GTSRB/Final_Training/Images/*/GT-*.csv'):\r\n",
        "  df=pd.read_csv(name)\r\n",
        "  dk={'Filename':[],'Width':[],'Height':[],'Roi.X1':[],'Roi.Y1':[],'Roi.X2':[],'Roi.Y2':[],'ClassId':[]}\r\n",
        "  for i in df.iterrows():\r\n",
        "    for j in range(8):\r\n",
        "      dk[cols[j]].append(i[1][0].split(';')[j])\r\n",
        "  pd.DataFrame(dk).to_csv(name,index=False)"
      ],
      "execution_count": 4,
      "outputs": []
    },
    {
      "cell_type": "code",
      "metadata": {
        "colab": {
          "base_uri": "https://localhost:8080/"
        },
        "id": "Q2cEglsBjBJv",
        "outputId": "224556e9-0c93-4839-de1d-89a1ce2dce8a"
      },
      "source": [
        "for en,path in enumerate(glob.glob('/content/GTSRB/Final_Training/Images/*/GT-*.csv')):\r\n",
        "  df=pd.read_csv(path)\r\n",
        "  if en==0:\r\n",
        "    fnl=df\r\n",
        "  else:\r\n",
        "    fnl=pd.concat([df,fnl],0)\r\n",
        "fnl['x_diff']=fnl['Roi.X2']-fnl['Roi.X1']\r\n",
        "fnl['y_diff']=fnl['Roi.Y2']-fnl['Roi.Y1']\r\n",
        "fnl['x_diff'].median(),fnl['y_diff'].median()"
      ],
      "execution_count": 5,
      "outputs": [
        {
          "output_type": "execute_result",
          "data": {
            "text/plain": [
              "(33.0, 32.0)"
            ]
          },
          "metadata": {
            "tags": []
          },
          "execution_count": 5
        }
      ]
    },
    {
      "cell_type": "code",
      "metadata": {
        "colab": {
          "base_uri": "https://localhost:8080/"
        },
        "id": "BzSXbkf8hmwf",
        "outputId": "2831ad0a-42da-46f7-f9dc-eb9f4d6146a3"
      },
      "source": [
        "\r\n",
        "for clas in tqdm(os.listdir('/content/GTSRB/Final_Training/Images/')):\r\n",
        "  df=pd.read_csv('/content/GTSRB/Final_Training/Images/'+clas+'/GT-'+clas+'.csv')\r\n",
        "  for i in df.iterrows():\r\n",
        "    val=i[1].values\r\n",
        "    name=val[0]\r\n",
        "    x1=val[3]\r\n",
        "    x2=val[5]\r\n",
        "    y1=val[4]\r\n",
        "    y2=val[6]\r\n",
        "    total_name='/content/GTSRB/Final_Training/Images/'+clas+'/'+name\r\n",
        "    img=cv2.imread(total_name)\r\n",
        "    cv2.imwrite(total_name,cv2.resize(img[x1:x2,y1:y2,:],(30,30), interpolation = cv2.INTER_AREA))"
      ],
      "execution_count": 7,
      "outputs": [
        {
          "output_type": "stream",
          "text": [
            "100%|██████████| 43/43 [00:13<00:00,  3.31it/s]\n"
          ],
          "name": "stderr"
        }
      ]
    },
    {
      "cell_type": "code",
      "metadata": {
        "id": "VvpX8RLypUmV"
      },
      "source": [
        "\r\n",
        "dk={}\r\n",
        "for en,clas in enumerate(os.listdir('/content/GTSRB/Final_Training/Images/')):\r\n",
        "  dk[clas]={'train':[],'test':[],'validation':[]}\r\n",
        "  ls=glob.glob('/content/GTSRB/Final_Training/Images/'+clas+'/*_00000.ppm')\r\n",
        "  ln=len(ls)\r\n",
        "  all=list(range(ln))\r\n",
        "  test_val=round(0.2*ln)\r\n",
        "  \r\n",
        "  \r\n",
        "  dk[clas]['test']=random.sample(all, test_val)\r\n",
        "  for i in dk[clas]['test']:\r\n",
        "    all.remove(i)\r\n",
        "\r\n",
        "  dk[clas]['validation']=random.sample(all, test_val)\r\n",
        "  for i in dk[clas]['validation']:\r\n",
        "    all.remove(i)\r\n",
        "  \r\n",
        "\r\n",
        "  dk[clas]['train']=all\r\n"
      ],
      "execution_count": 41,
      "outputs": []
    },
    {
      "cell_type": "code",
      "metadata": {
        "id": "CiB0tW3isf7b"
      },
      "source": [
        ""
      ],
      "execution_count": null,
      "outputs": []
    }
  ]
}