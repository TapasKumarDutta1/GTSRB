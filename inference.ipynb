{
  "nbformat": 4,
  "nbformat_minor": 0,
  "metadata": {
    "colab": {
      "name": "inference.ipynb",
      "provenance": [],
      "authorship_tag": "ABX9TyPUx8v5ttLBuUrlR8c43fsa",
      "include_colab_link": true
    },
    "kernelspec": {
      "name": "python3",
      "display_name": "Python 3"
    }
  },
  "cells": [
    {
      "cell_type": "markdown",
      "metadata": {
        "id": "view-in-github",
        "colab_type": "text"
      },
      "source": [
        "<a href=\"https://colab.research.google.com/github/greyhound101/Orbuculum/blob/main/inference.ipynb\" target=\"_parent\"><img src=\"https://colab.research.google.com/assets/colab-badge.svg\" alt=\"Open In Colab\"/></a>"
      ]
    },
    {
      "cell_type": "code",
      "metadata": {
        "id": "d5Prz7nTLP-C"
      },
      "source": [
        "import keras\r\n",
        "import keras.backend as K\r\n",
        "from keras.applications import *\r\n",
        "from keras.layers import *\r\n",
        "from keras.models import Model\r\n",
        "import tensorflow as tf\r\n",
        "from keras.activations import *\r\n",
        "from keras.models import Sequential\r\n",
        "import numpy as np\r\n",
        "import cv2\r\n",
        "from keras.layers import Conv2D, MaxPool2D, Dense, Flatten, Dropout\r\n",
        "class SE(keras.layers.Layer):\r\n",
        "    def __init__(self,factor,otr,**kwargs):\r\n",
        "        super(SE, self).__init__(**kwargs)\r\n",
        "        self.inr=int(otr/factor)\r\n",
        "        self.otr=otr\r\n",
        "        \r\n",
        "    def get_config(self):\r\n",
        "        base_config = super(SE, self).get_config()\r\n",
        "\r\n",
        "    def build(self, input_shape):\r\n",
        "        super(SE, self).build(input_shape)\r\n",
        "        self.pool1=GlobalAveragePooling2D()\r\n",
        "        self.compress=Dense(self.inr,activation='relu')\r\n",
        "        self.expand=Dense(self.otr,activation='sigmoid')\r\n",
        "\r\n",
        "    def call(self, img):\r\n",
        "        y = self.pool1(img)\r\n",
        "        y = self.compress(y)\r\n",
        "        map = self.expand(y)\r\n",
        "        map = tf.expand_dims(map,1)\r\n",
        "        map = tf.expand_dims(map,2)\r\n",
        "        return tf.math.multiply(img,map)\r\n",
        "def load_model(last=True): \r\n",
        "  K.clear_session()   \r\n",
        "  model = Sequential()\r\n",
        "  model.add(Conv2D(filters=32, kernel_size=(5,5), input_shape=(30,30,3)))\r\n",
        "  model.add(BatchNormalization())\r\n",
        "  model.add(Activation('relu'))\r\n",
        "  model.add(MaxPool2D(pool_size=(2, 2)))\r\n",
        "  model.add(Conv2D(filters=64, kernel_size=(2,2)))\r\n",
        "  model.add(BatchNormalization())\r\n",
        "  model.add(Activation('relu'))\r\n",
        "  model.add(SE(4,64))\r\n",
        "    \r\n",
        "  model.add(Conv2D(filters=32, kernel_size=(2,2)))\r\n",
        "  model.add(BatchNormalization())\r\n",
        "  model.add(Activation('relu'))\r\n",
        "  model.add(MaxPool2D(pool_size=(2, 2)))\r\n",
        "  model.add(Conv2D(filters=64, kernel_size=(2,2)))\r\n",
        "  model.add(BatchNormalization())\r\n",
        "  model.add(Activation('relu'))\r\n",
        "  model.add(SE(8,64))\r\n",
        "    \r\n",
        "  model.add(Flatten())\r\n",
        "  model.add(Dense(256, activation='relu'))\r\n",
        "  model.add(Dropout(rate=0.5))\r\n",
        "  model.add(Dense(43, activation='softmax'))\r\n",
        "  return model\r\n",
        "model=load_model()\r\n",
        "model.load_weights('/content/weights.hdf5')\r\n",
        "a=cv2.imread('/content/image.ppm')\r\n",
        "x1=int(input('Enter ROI x1'))\r\n",
        "x2=int(input('Enter ROI x2'))\r\n",
        "y1=int(input('Enter ROI y1'))\r\n",
        "y2=int(input('Enter ROI y2'))\r\n",
        "img=cv2.resize(a[x1:x2,y1:y2,:],(30,30), interpolation = cv2.INTER_AREA)\r\n",
        "pre=model.predict(img.reshape(1,30,30,3)/255)\r\n",
        "np.argmax(pre,1)"
      ],
      "execution_count": 12,
      "outputs": []
    }
  ]
}