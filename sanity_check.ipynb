{
  "nbformat": 4,
  "nbformat_minor": 0,
  "metadata": {
    "colab": {
      "name": "sanity_check.ipynb",
      "provenance": [],
      "authorship_tag": "ABX9TyPkea1L3akAyfm5n79amAx8",
      "include_colab_link": true
    },
    "kernelspec": {
      "name": "python3",
      "display_name": "Python 3"
    },
    "language_info": {
      "name": "python"
    }
  },
  "cells": [
    {
      "cell_type": "markdown",
      "metadata": {
        "id": "view-in-github",
        "colab_type": "text"
      },
      "source": [
        "<a href=\"https://colab.research.google.com/github/greyhound101/Orbuculum/blob/main/sanity_check.ipynb\" target=\"_parent\"><img src=\"https://colab.research.google.com/assets/colab-badge.svg\" alt=\"Open In Colab\"/></a>"
      ]
    },
    {
      "cell_type": "code",
      "metadata": {
        "id": "qMhSoSU_2gRs"
      },
      "source": [
        "import pandas as pd\n",
        "def clas(a):\n",
        "    ls=[]\n",
        "    for i in a:\n",
        "        ls.append(int(i.split('/')[2].split('_')[-1]))\n",
        "    print(len(list(set(ls))))\n",
        "a=df['validation'].apply(clas)\n",
        "a=df['train'].apply(clas)\n",
        "a=df['test'].apply(clas)\n",
        "def abc(a):\n",
        "    ls=[]\n",
        "    for i in a:\n",
        "        x=int(i.split('/')[-1].split('_')[0])\n",
        "        ls.append(x)\n",
        "    return list(set(ls))\n",
        "df['val_unq']=df['validation'].apply(abc)\n",
        "df['train_unq']=df['train'].apply(abc)\n",
        "df['test_unq']=df['test'].apply(abc)\n",
        "for i in df.iterrows():\n",
        "    a,b,c=set(i[1][-1]),set(i[1][-2]),set(i[1][-3])\n",
        "    print(set.intersection(a,b))\n",
        "    print(set.intersection(c,b))\n",
        "    print(set.intersection(c,a))"
      ],
      "execution_count": null,
      "outputs": []
    }
  ]
}